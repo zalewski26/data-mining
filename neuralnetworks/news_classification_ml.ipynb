{
 "cells": [
  {
   "cell_type": "code",
   "execution_count": 3,
   "metadata": {},
   "outputs": [],
   "source": [
    "import pickle\n",
    "\n",
    "import matplotlib.pyplot as plt\n",
    "import numpy as np\n",
    "from nltk.stem.snowball import SnowballStemmer\n",
    "from sklearn import model_selection\n",
    "from sklearn.datasets import fetch_20newsgroups\n",
    "from sklearn.ensemble import RandomForestClassifier\n",
    "from sklearn.feature_extraction.text import CountVectorizer, TfidfTransformer\n",
    "from sklearn.naive_bayes import MultinomialNB\n",
    "from sklearn.pipeline import Pipeline\n",
    "from sklearn.svm import SVC\n",
    "from sklearn.tree import DecisionTreeClassifier"
   ]
  },
  {
   "cell_type": "markdown",
   "metadata": {},
   "source": [
    "Load data"
   ]
  },
  {
   "cell_type": "code",
   "execution_count": 4,
   "metadata": {},
   "outputs": [
    {
     "name": "stdout",
     "output_type": "stream",
     "text": [
      "['DESCR', 'data', 'filenames', 'target', 'target_names']\n",
      "11314\n",
      "Target names: ['alt.atheism', 'comp.graphics', 'comp.os.ms-windows.misc', 'comp.sys.ibm.pc.hardware', 'comp.sys.mac.hardware', 'comp.windows.x', 'misc.forsale', 'rec.autos', 'rec.motorcycles', 'rec.sport.baseball', 'rec.sport.hockey', 'sci.crypt', 'sci.electronics', 'sci.med', 'sci.space', 'soc.religion.christian', 'talk.politics.guns', 'talk.politics.mideast', 'talk.politics.misc', 'talk.religion.misc']\n",
      "------------------------------------\n",
      "Label: rec.autos\n",
      "Text: From: lerxst@wam.umd.edu (where's my thing)\n",
      "Subject: WHAT car is this!?\n",
      "Nntp-Posting-Host: rac3.wam.umd.edu\n",
      "Organization: University of Maryland, College Park\n",
      "Lines: 15\n",
      "\n",
      " I was wondering if anyone out there could enlighten me on this car I saw\n",
      "the ot\n",
      "------------------------------------\n"
     ]
    }
   ],
   "source": [
    "train = fetch_20newsgroups(subset='train', shuffle=True)\n",
    "test = fetch_20newsgroups(subset='test', shuffle=True)\n",
    "# with open('20_newsgroups_train.pickle', 'rb') as f:\n",
    "#     train = pickle.load(f)\n",
    "# with open('20_newsgroups_test.pickle', 'rb') as f:\n",
    "#     test = pickle.load(f)\n",
    "print(dir(train))\n",
    "print(len(train.data))\n",
    "print(\"Target names:\", train.target_names)\n",
    "print(\"------------------------------------\")\n",
    "print(\"Label:\", train.target_names[train.target[0]])\n",
    "print(\"Text:\", train.data[0][:250])\n",
    "print(\"------------------------------------\")"
   ]
  },
  {
   "cell_type": "markdown",
   "metadata": {},
   "source": [
    "Stemming"
   ]
  },
  {
   "cell_type": "code",
   "execution_count": 5,
   "metadata": {},
   "outputs": [],
   "source": [
    "# import nltk\n",
    "\n",
    "# nltk.data.path.append('nltk_data')\n",
    "# from nltk.corpus import stopwords\n",
    "\n",
    "# stop_words = set(stopwords.words('english'))\n",
    "\n",
    "stemmer = SnowballStemmer(\"english\", ignore_stopwords=True)\n",
    "class StemmedCountVectorizer(CountVectorizer):\n",
    "    def build_analyzer(self):\n",
    "        analyzer = super(StemmedCountVectorizer, self).build_analyzer()\n",
    "        return lambda doc: ([stemmer.stem(w) for w in analyzer(doc)])"
   ]
  },
  {
   "cell_type": "markdown",
   "metadata": {},
   "source": [
    "Pipelines"
   ]
  },
  {
   "cell_type": "code",
   "execution_count": 6,
   "metadata": {},
   "outputs": [],
   "source": [
    "pipelines = {\n",
    "    \"DTC\": Pipeline(\n",
    "        [\n",
    "            (\"vect\", CountVectorizer()),\n",
    "            (\"tfidf\", TfidfTransformer()),\n",
    "            (\"dtc\", DecisionTreeClassifier()),\n",
    "        ]\n",
    "    ),\n",
    "    \"DTC stop words\": Pipeline(\n",
    "        [\n",
    "            (\"vect\", CountVectorizer(stop_words=\"english\")),\n",
    "            (\"tfidf\", TfidfTransformer()),\n",
    "            (\"dtc\", DecisionTreeClassifier()),\n",
    "        ]\n",
    "    ),\n",
    "    \"DTC stemming\": Pipeline(\n",
    "        [\n",
    "            (\"vect\", StemmedCountVectorizer()),\n",
    "            (\"tfidf\", TfidfTransformer()),\n",
    "            (\"dtc\", DecisionTreeClassifier()),\n",
    "        ]\n",
    "    ),\n",
    "    \"DTC stop words + stemming\": Pipeline(\n",
    "        [\n",
    "            (\"vect\", StemmedCountVectorizer(stop_words=\"english\")),\n",
    "            (\"tfidf\", TfidfTransformer()),\n",
    "            (\"dtc\", DecisionTreeClassifier()),\n",
    "        ]\n",
    "    ),\n",
    "    \"RFC\": Pipeline(\n",
    "        [\n",
    "            (\"vect\", CountVectorizer()),\n",
    "            (\"tfidf\", TfidfTransformer()),\n",
    "            (\"dtc\", RandomForestClassifier()),\n",
    "        ]\n",
    "    ),\n",
    "    \"RFC stop words\": Pipeline(\n",
    "        [\n",
    "            (\"vect\", CountVectorizer(stop_words=\"english\")),\n",
    "            (\"tfidf\", TfidfTransformer()),\n",
    "            (\"dtc\", RandomForestClassifier()),\n",
    "        ]\n",
    "    ),\n",
    "    \"RFC stemming\": Pipeline(\n",
    "        [\n",
    "            (\"vect\", StemmedCountVectorizer()),\n",
    "            (\"tfidf\", TfidfTransformer()),\n",
    "            (\"dtc\", RandomForestClassifier()),\n",
    "        ]\n",
    "    ),\n",
    "    \"RFC stop words + stemming\": Pipeline(\n",
    "        [\n",
    "            (\"vect\", StemmedCountVectorizer(stop_words=\"english\")),\n",
    "            (\"tfidf\", TfidfTransformer()),\n",
    "            (\"dtc\", RandomForestClassifier()),\n",
    "        ]\n",
    "    ),\n",
    "}"
   ]
  },
  {
   "cell_type": "code",
   "execution_count": 7,
   "metadata": {},
   "outputs": [
    {
     "name": "stdout",
     "output_type": "stream",
     "text": [
      "DTC: 0.5566914498141264\n",
      "DTC stop words: 0.573951141795008\n",
      "DTC stemming: 0.548194370685077\n",
      "DTC stop words + stemming: 0.5669144981412639\n",
      "RFC: 0.7578332448220924\n",
      "RFC stop words: 0.7900955921402018\n",
      "RFC stemming: 0.762745618693574\n",
      "RFC stop words + stemming: 0.7805363781200212\n"
     ]
    }
   ],
   "source": [
    "for key, pipeline in pipelines.items():\n",
    "    pipeline = pipeline.fit(train.data, train.target)\n",
    "    predicted = pipeline.predict(test.data)\n",
    "    print(f\"{key}: {np.mean(predicted == test.target)}\")"
   ]
  },
  {
   "cell_type": "markdown",
   "metadata": {},
   "source": [
    "It seems that stemming and removing stopwords helps"
   ]
  },
  {
   "cell_type": "code",
   "execution_count": 8,
   "metadata": {},
   "outputs": [],
   "source": [
    "models = {\n",
    "    \"DTC\": Pipeline(\n",
    "        [\n",
    "            (\"vect\", StemmedCountVectorizer(stop_words=\"english\")),\n",
    "            (\"tfidf\", TfidfTransformer()),\n",
    "            (\"dtc\", DecisionTreeClassifier()),\n",
    "        ]\n",
    "    ),\n",
    "    \"RFC\": Pipeline(\n",
    "        [\n",
    "            (\"vect\", StemmedCountVectorizer(stop_words=\"english\")),\n",
    "            (\"tfidf\", TfidfTransformer()),\n",
    "            (\"dtc\", RandomForestClassifier()),\n",
    "        ]\n",
    "    ),\n",
    "    \"Naive Bayes\": Pipeline(\n",
    "        [\n",
    "            (\"vect\", StemmedCountVectorizer(stop_words=\"english\")),\n",
    "            (\"tfidf\", TfidfTransformer()),\n",
    "            (\"nb\", MultinomialNB()),\n",
    "        ]\n",
    "    ),\n",
    "    \"SVM\": Pipeline(\n",
    "        [\n",
    "            (\"vect\", StemmedCountVectorizer(stop_words=\"english\")),\n",
    "            (\"tfidf\", TfidfTransformer()),\n",
    "            (\"svm\", SVC(kernel=\"linear\")),\n",
    "        ]\n",
    "    ),\n",
    "}"
   ]
  },
  {
   "cell_type": "markdown",
   "metadata": {},
   "source": [
    "Cross validation"
   ]
  },
  {
   "cell_type": "code",
   "execution_count": 9,
   "metadata": {},
   "outputs": [
    {
     "name": "stdout",
     "output_type": "stream",
     "text": [
      "\u001b[94mDTC\u001b[0m:\n",
      "\tmean: 0.6527,\tstd: 0.0140\n",
      "\u001b[94mRFC\u001b[0m:\n",
      "\tmean: 0.8553,\tstd: 0.0046\n",
      "\u001b[94mNaive Bayes\u001b[0m:\n",
      "\tmean: 0.8751,\tstd: 0.0065\n",
      "\u001b[94mSVM\u001b[0m:\n",
      "\tmean: 0.9166,\tstd: 0.0032\n"
     ]
    },
    {
     "data": {
      "image/png": "[encoded data removed]",
      "text/plain": [
       "<Figure size 640x480 with 1 Axes>"
      ]
     },
     "metadata": {},
     "output_type": "display_data"
    }
   ],
   "source": [
    "results = []\n",
    "names = []\n",
    "scoring = \"accuracy\"\n",
    "\n",
    "for name, model in models.items():\n",
    "    kfold = model_selection.KFold(n_splits=5)\n",
    "    cv_results = model_selection.cross_val_score(model, train.data, train.target, cv=kfold, scoring=scoring)\n",
    "    results.append(cv_results)\n",
    "    names.append(name)\n",
    "    print(f\"\\033[94m{name}\\033[0m:\\n\\tmean: {cv_results.mean():.4f},\\tstd: {cv_results.std():.4f}\")\n",
    "\n",
    "fig = plt.figure()\n",
    "fig.suptitle(\"Algorithm Comparison\")\n",
    "ax = fig.add_subplot(111)\n",
    "plt.boxplot(results)\n",
    "ax.set_xticklabels(names)\n",
    "plt.show()"
   ]
  }
 ],
 "metadata": {
  "kernelspec": {
   "display_name": "Python 3",
   "language": "python",
   "name": "python3"
  },
  "language_info": {
   "codemirror_mode": {
    "name": "ipython",
    "version": 3
   },
   "file_extension": ".py",
   "mimetype": "text/x-python",
   "name": "python",
   "nbconvert_exporter": "python",
   "pygments_lexer": "ipython3",
   "version": "3.8.10"
  }
 },
 "nbformat": 4,
 "nbformat_minor": 2
}
