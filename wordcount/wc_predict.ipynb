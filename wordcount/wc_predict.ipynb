{
 "cells": [
  {
   "cell_type": "markdown",
   "metadata": {},
   "source": [
    "Imports"
   ]
  },
  {
   "cell_type": "code",
   "execution_count": 16,
   "metadata": {},
   "outputs": [],
   "source": [
    "import string\n",
    "from nltk.corpus import stopwords\n",
    "import random"
   ]
  },
  {
   "cell_type": "markdown",
   "metadata": {},
   "source": [
    "Load & prepare words"
   ]
  },
  {
   "cell_type": "code",
   "execution_count": 4,
   "metadata": {},
   "outputs": [],
   "source": [
    "with open(\"witcher.txt\", encoding=\"UTF-8\") as file:\n",
    "    words = [word for line in file for word in line.split()]\n",
    "\n",
    "# to lowercase\n",
    "words = [word.lower() for word in words]\n",
    "# remove stop words\n",
    "stop_words = stopwords.words(\"english\")\n",
    "words = [word for word in words if word not in stop_words]\n",
    "# remove punctuation\n",
    "words = [word.translate(str.maketrans(\"\", \"\", string.punctuation)) for word in words]\n",
    "# remove stop words and single letters (created after removing punctuation)\n",
    "words = [word for word in words if word not in stop_words and len(word) > 1]"
   ]
  },
  {
   "cell_type": "markdown",
   "metadata": {},
   "source": [
    "Words prediction"
   ]
  },
  {
   "cell_type": "code",
   "execution_count": 13,
   "metadata": {},
   "outputs": [],
   "source": [
    "successors = {}\n",
    "prev = None\n",
    "for word in words:\n",
    "    if prev != None:\n",
    "        if word in successors[prev]:\n",
    "            successors[prev][word] += 1\n",
    "        else:\n",
    "            successors[prev][word] = 0\n",
    "    if word not in successors:\n",
    "        successors[word] = {}\n",
    "    prev = word\n",
    "\n",
    "predictions = {}\n",
    "for word in successors:\n",
    "    succ_list = [(key, value) for (key, value) in successors[word].items()]\n",
    "    occurences = lambda pair: pair[1]\n",
    "    succ_list.sort(key=occurences, reverse=True)\n",
    "    predictions[word] = succ_list[:5]"
   ]
  },
  {
   "cell_type": "code",
   "execution_count": 28,
   "metadata": {},
   "outputs": [],
   "source": [
    "def generate_words(num_of_words):\n",
    "    current_word = random.choice(words)\n",
    "    for i in range(num_of_words):\n",
    "        if ((i+1) % 20) == 0:\n",
    "            print()\n",
    "        print(current_word, end=' ')\n",
    "        current_word = random.choice(predictions[current_word])[0]\n",
    "        "
   ]
  },
  {
   "cell_type": "code",
   "execution_count": 32,
   "metadata": {},
   "outputs": [
    {
     "name": "stdout",
     "output_type": "stream",
     "text": [
      "little girl moment ago cant remember anything love though respect suspicion im frightened replied witcher girl would one day \n",
      "day night rain knocked window lets take away wind howled banged shutter swelled tapestry triss turned nose stared expectantly well \n",
      "known ciri could barely keep eye crazed swirl bluegold black caparisons flew beneath feet pounding hands gods hangs remember remember \n",
      "happened spring said witcher could neither find something else something happens strike left bank looming mist going say unto first \n",
      "drops dew geralt im sure may blessing progress slow wrong yelled ciri said quietly people know anything im sure opinion \n",
      "snuggled "
     ]
    }
   ],
   "source": [
    "generate_words(100)"
   ]
  }
 ],
 "metadata": {
  "kernelspec": {
   "display_name": "Python 3",
   "language": "python",
   "name": "python3"
  },
  "language_info": {
   "codemirror_mode": {
    "name": "ipython",
    "version": 3
   },
   "file_extension": ".py",
   "mimetype": "text/x-python",
   "name": "python",
   "nbconvert_exporter": "python",
   "pygments_lexer": "ipython3",
   "version": "3.8.10"
  }
 },
 "nbformat": 4,
 "nbformat_minor": 2
}
