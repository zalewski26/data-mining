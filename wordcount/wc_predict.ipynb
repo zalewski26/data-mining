{
 "cells": [
  {
   "cell_type": "markdown",
   "metadata": {},
   "source": [
    "Imports"
   ]
  },
  {
   "cell_type": "code",
   "execution_count": 1,
   "metadata": {},
   "outputs": [],
   "source": [
    "import string\n",
    "from nltk.corpus import stopwords\n",
    "import random"
   ]
  },
  {
   "cell_type": "markdown",
   "metadata": {},
   "source": [
    "Load & prepare words"
   ]
  },
  {
   "cell_type": "code",
   "execution_count": 2,
   "metadata": {},
   "outputs": [],
   "source": [
    "with open(\"witcher.txt\", encoding=\"UTF-8\") as file:\n",
    "    words = [word for line in file for word in line.split()]\n",
    "\n",
    "# to lowercase\n",
    "words = [word.lower() for word in words]\n",
    "# remove stop words\n",
    "stop_words = stopwords.words(\"english\")\n",
    "words = [word for word in words if word not in stop_words]\n",
    "# remove punctuation\n",
    "words = [word.translate(str.maketrans(\"\", \"\", string.punctuation)) for word in words]\n",
    "# remove stop words and single letters (created after removing punctuation)\n",
    "words = [word for word in words if word not in stop_words and len(word) > 1]"
   ]
  },
  {
   "cell_type": "markdown",
   "metadata": {},
   "source": [
    "Words prediction"
   ]
  },
  {
   "cell_type": "code",
   "execution_count": 3,
   "metadata": {},
   "outputs": [],
   "source": [
    "successors = {}\n",
    "prev = None\n",
    "for word in words:\n",
    "    if prev != None:\n",
    "        if word in successors[prev]:\n",
    "            successors[prev][word] += 1\n",
    "        else:\n",
    "            successors[prev][word] = 0\n",
    "    if word not in successors:\n",
    "        successors[word] = {}\n",
    "    prev = word\n",
    "\n",
    "predictions = {}\n",
    "for word in successors:\n",
    "    succ_list = [(key, value) for (key, value) in successors[word].items()]\n",
    "    occurences = lambda pair: pair[1]\n",
    "    succ_list.sort(key=occurences, reverse=True)\n",
    "    predictions[word] = succ_list[:5]"
   ]
  },
  {
   "cell_type": "code",
   "execution_count": 4,
   "metadata": {},
   "outputs": [],
   "source": [
    "def generate_words(num_of_words):\n",
    "    current_word = random.choice(words)\n",
    "    for i in range(num_of_words):\n",
    "        if ((i+1) % 20) == 0:\n",
    "            print()\n",
    "        print(current_word, end=' ')\n",
    "        current_word = random.choice(predictions[current_word])[0]\n",
    "        "
   ]
  },
  {
   "cell_type": "code",
   "execution_count": 5,
   "metadata": {},
   "outputs": [
    {
     "name": "stdout",
     "output_type": "stream",
     "text": [
      "somewhere within temple walls little witchergirl wagon quick neither time time look around waist dress dark abyss smoke stairs \n",
      "leading stormy dispute essence origins life battles sodden transriver cant understand nilfgaard attack dodge learn something heavy table simply got \n",
      "sword axe tilted head towards tiny fraction second battle cintra child child elder race arm magician smiled pleasantly fluttered wings \n",
      "bird maybe knight black horse roar blaze slit helmet fluttering eyelashes oh geralt im listening halfconvinced someone cried order chat \n",
      "artist field outfit like im frightened replied coldly give ill go back wracked strange questions something heavy leather jerkin also \n",
      "saw "
     ]
    }
   ],
   "source": [
    "generate_words(100)"
   ]
  }
 ],
 "metadata": {
  "kernelspec": {
   "display_name": "Python 3",
   "language": "python",
   "name": "python3"
  },
  "language_info": {
   "codemirror_mode": {
    "name": "ipython",
    "version": 3
   },
   "file_extension": ".py",
   "mimetype": "text/x-python",
   "name": "python",
   "nbconvert_exporter": "python",
   "pygments_lexer": "ipython3",
   "version": "3.8.10"
  }
 },
 "nbformat": 4,
 "nbformat_minor": 2
}
