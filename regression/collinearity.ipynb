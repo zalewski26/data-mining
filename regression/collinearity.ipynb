{
 "cells": [
  {
   "cell_type": "markdown",
   "metadata": {},
   "source": [
    "Imports"
   ]
  },
  {
   "cell_type": "code",
   "execution_count": 44,
   "metadata": {},
   "outputs": [],
   "source": [
    "import numpy as np\n",
    "import matplotlib.pyplot as plt\n",
    "from scipy.stats import norm"
   ]
  },
  {
   "cell_type": "markdown",
   "metadata": {},
   "source": [
    "Data"
   ]
  },
  {
   "cell_type": "code",
   "execution_count": 45,
   "metadata": {},
   "outputs": [],
   "source": [
    "# mean = 0, variance = 1\n",
    "rng = np.random.default_rng(10)\n",
    "x1 = rng.uniform(0, 1, size=100)\n",
    "x2 = 0.5 * x1 + rng.normal(size=100) / 10\n",
    "y = 2 + 2 * x1 + 0.3 * x2 + rng.normal(size=100)\n",
    "\n",
    "x1 = np.concatenate([x1, [0.1]])\n",
    "x2 = np.concatenate([x2, [0.8]])\n",
    "y = np.concatenate([y, [6]])"
   ]
  },
  {
   "cell_type": "markdown",
   "metadata": {},
   "source": [
    "Relationship"
   ]
  },
  {
   "cell_type": "code",
   "execution_count": 46,
   "metadata": {},
   "outputs": [
    {
     "data": {
      "image/png": "[encoded data removed]",
      "text/plain": [
       "<Figure size 640x480 with 1 Axes>"
      ]
     },
     "metadata": {},
     "output_type": "display_data"
    }
   ],
   "source": [
    "plt.scatter(x1, x2, color=\"slategrey\", alpha=0.6, edgecolors=\"w\", s=80)\n",
    "plt.xlabel(\"x1\")\n",
    "plt.ylabel(\"x2\")\n",
    "plt.title(\"Relationship between x2 and x1\")\n",
    "plt.show()"
   ]
  },
  {
   "cell_type": "markdown",
   "metadata": {},
   "source": [
    "Regression"
   ]
  },
  {
   "cell_type": "markdown",
   "metadata": {},
   "source": [
    "$$\n",
    "\\text{Var}(AX) = A \\times Var(X) \\times A^T. \\\\\n",
    "\\hat{\\beta} = (X^TX)^{-1}X^Ty \\\\ \n",
    "\\text{Var}(\\hat{\\beta}) = \\sigma^2 (X^T X)^{-1}\n",
    "\n",
    "$$\n"
   ]
  },
  {
   "cell_type": "code",
   "execution_count": 47,
   "metadata": {},
   "outputs": [
    {
     "name": "stdout",
     "output_type": "stream",
     "text": [
      "True β: [2, 2, 0.3]\n",
      "Predicted β: [2.06179126 0.85754482 2.26632349]\n",
      "β1:  t-statistic = 1.724   p-value = 8.472%\n",
      "β2:  t-statistic = 3.016   p-value = 0.256%\n"
     ]
    }
   ],
   "source": [
    "X_matrix = np.column_stack([[1 for _ in range(len(y))], x1, x2])\n",
    "\n",
    "beta_vector = np.matmul(\n",
    "    np.linalg.inv(np.matmul(X_matrix.transpose(), X_matrix)),\n",
    "    np.matmul(X_matrix.transpose(), y),\n",
    ")\n",
    "\n",
    "print(\"True \\u03B2: [2, 2, 0.3]\")\n",
    "print(f\"Predicted \\u03B2: {beta_vector}\")\n",
    "\n",
    "error_variance = 1\n",
    "beta_variance = error_variance * np.linalg.inv(np.matmul(X_matrix.transpose(), X_matrix))\n",
    "standard_errors = np.sqrt(np.diag(beta_variance))\n",
    "\n",
    "t_stat1 = beta_vector[1] / standard_errors[1]\n",
    "t_stat2 = beta_vector[2] / standard_errors[2]\n",
    "\n",
    "p_value1 = (1 - norm.cdf(t_stat1)) * 2\n",
    "p_value2 = (1 - norm.cdf(t_stat2)) * 2\n",
    "\n",
    "print(f\"\\u03B21:  t-statistic = {t_stat1:.3f}   p-value = {p_value1*100:.3f}%\")\n",
    "print(f\"\\u03B22:  t-statistic = {t_stat2:.3f}   p-value = {p_value2*100:.3f}%\")"
   ]
  },
  {
   "cell_type": "markdown",
   "metadata": {},
   "source": [
    "Regression with $x_1$ only"
   ]
  },
  {
   "cell_type": "code",
   "execution_count": 48,
   "metadata": {},
   "outputs": [
    {
     "name": "stdout",
     "output_type": "stream",
     "text": [
      "True β: [2, 2]\n",
      "Predicted β: [2.0739405  1.87604564]\n",
      "β1:  t-statistic = 5.137   p-value = 0.000028%\n"
     ]
    }
   ],
   "source": [
    "X_matrix = np.column_stack([[1 for _ in range(len(y))], x1])\n",
    "\n",
    "beta_vector = np.matmul(\n",
    "    np.linalg.inv(np.matmul(X_matrix.transpose(), X_matrix)),\n",
    "    np.matmul(X_matrix.transpose(), y),\n",
    ")\n",
    "\n",
    "print(\"True \\u03B2: [2, 2]\")\n",
    "print(f\"Predicted \\u03B2: {beta_vector}\")\n",
    "\n",
    "error_variance = 1\n",
    "beta_variance = error_variance * np.linalg.inv(np.matmul(X_matrix.transpose(), X_matrix))\n",
    "standard_errors = np.sqrt(np.diag(beta_variance))\n",
    "\n",
    "t_stat1 = beta_vector[1] / standard_errors[1]\n",
    "p_value1 = (1 - norm.cdf(t_stat1)) * 2\n",
    "\n",
    "\n",
    "print(f\"\\u03B21:  t-statistic = {t_stat1:.3f}   p-value = {p_value1*100:.6f}%\")"
   ]
  },
  {
   "cell_type": "markdown",
   "metadata": {},
   "source": [
    "Regression with $x_2$ only"
   ]
  },
  {
   "cell_type": "code",
   "execution_count": 49,
   "metadata": {},
   "outputs": [
    {
     "name": "stdout",
     "output_type": "stream",
     "text": [
      "True β: [2, 0.3]\n",
      "Predicted β: [2.28401186 3.14584863]\n",
      "β2:  t-statistic = 5.702   p-value = 0.000001%\n"
     ]
    }
   ],
   "source": [
    "X_matrix = np.column_stack([[1 for _ in range(len(y))], x2])\n",
    "\n",
    "beta_vector = np.matmul(\n",
    "    np.linalg.inv(np.matmul(X_matrix.transpose(), X_matrix)),\n",
    "    np.matmul(X_matrix.transpose(), y),\n",
    ")\n",
    "\n",
    "print(\"True \\u03B2: [2, 0.3]\")\n",
    "print(f\"Predicted \\u03B2: {beta_vector}\")\n",
    "\n",
    "error_variance = 1\n",
    "beta_variance = error_variance * np.linalg.inv(np.matmul(X_matrix.transpose(), X_matrix))\n",
    "standard_errors = np.sqrt(np.diag(beta_variance))\n",
    "\n",
    "t_stat1 = beta_vector[1] / standard_errors[1]\n",
    "p_value1 = (1 - norm.cdf(t_stat1)) * 2\n",
    "\n",
    "\n",
    "print(f\"\\u03B22:  t-statistic = {t_stat1:.3f}   p-value = {p_value1*100:.6f}%\")"
   ]
  }
 ],
 "metadata": {
  "kernelspec": {
   "display_name": "Python 3",
   "language": "python",
   "name": "python3"
  },
  "language_info": {
   "codemirror_mode": {
    "name": "ipython",
    "version": 3
   },
   "file_extension": ".py",
   "mimetype": "text/x-python",
   "name": "python",
   "nbconvert_exporter": "python",
   "pygments_lexer": "ipython3",
   "version": "3.8.10"
  }
 },
 "nbformat": 4,
 "nbformat_minor": 2
}
