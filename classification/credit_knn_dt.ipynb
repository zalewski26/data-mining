{
 "cells": [
  {
   "cell_type": "markdown",
   "metadata": {},
   "source": [
    "Imports"
   ]
  },
  {
   "cell_type": "code",
   "execution_count": 5,
   "metadata": {},
   "outputs": [],
   "source": [
    "import pandas as pd\n",
    "import numpy as np\n",
    "import matplotlib.pyplot as plt\n",
    "from patsy import dmatrices\n",
    "from sklearn import model_selection\n",
    "from sklearn.tree import DecisionTreeClassifier\n",
    "from sklearn.neighbors import KNeighborsClassifier\n",
    "from sklearn.linear_model import LogisticRegression\n",
    "from sklearn.metrics import accuracy_score\n",
    "from sklearn.exceptions import ConvergenceWarning\n",
    "import warnings\n",
    "warnings.filterwarnings(\"ignore\", category=ConvergenceWarning)"
   ]
  },
  {
   "cell_type": "markdown",
   "metadata": {},
   "source": [
    "Load data"
   ]
  },
  {
   "cell_type": "code",
   "execution_count": 6,
   "metadata": {},
   "outputs": [
    {
     "name": "stdout",
     "output_type": "stream",
     "text": [
      "<class 'pandas.core.frame.DataFrame'>\n",
      "RangeIndex: 400 entries, 0 to 399\n",
      "Data columns (total 12 columns):\n",
      " #   Column     Non-Null Count  Dtype  \n",
      "---  ------     --------------  -----  \n",
      " 0   Income     400 non-null    float64\n",
      " 1   Limit      400 non-null    int64  \n",
      " 2   Rating     400 non-null    int64  \n",
      " 3   Cards      400 non-null    int64  \n",
      " 4   Age        400 non-null    int64  \n",
      " 5   Education  400 non-null    int64  \n",
      " 6   Gender     400 non-null    object \n",
      " 7   Student    400 non-null    object \n",
      " 8   Married    400 non-null    object \n",
      " 9   Ethnicity  400 non-null    object \n",
      " 10  Balance    400 non-null    int64  \n",
      " 11  inc_gt_50  400 non-null    int64  \n",
      "dtypes: float64(1), int64(7), object(4)\n",
      "memory usage: 37.6+ KB\n",
      "None\n"
     ]
    },
    {
     "data": {
      "text/html": [
       "<div>\n",
       "<style scoped>\n",
       "    .dataframe tbody tr th:only-of-type {\n",
       "        vertical-align: middle;\n",
       "    }\n",
       "\n",
       "    .dataframe tbody tr th {\n",
       "        vertical-align: top;\n",
       "    }\n",
       "\n",
       "    .dataframe thead th {\n",
       "        text-align: right;\n",
       "    }\n",
       "</style>\n",
       "<table border=\"1\" class=\"dataframe\">\n",
       "  <thead>\n",
       "    <tr style=\"text-align: right;\">\n",
       "      <th></th>\n",
       "      <th>Income</th>\n",
       "      <th>Limit</th>\n",
       "      <th>Rating</th>\n",
       "      <th>Cards</th>\n",
       "      <th>Age</th>\n",
       "      <th>Education</th>\n",
       "      <th>Gender</th>\n",
       "      <th>Student</th>\n",
       "      <th>Married</th>\n",
       "      <th>Ethnicity</th>\n",
       "      <th>Balance</th>\n",
       "      <th>inc_gt_50</th>\n",
       "    </tr>\n",
       "  </thead>\n",
       "  <tbody>\n",
       "    <tr>\n",
       "      <th>0</th>\n",
       "      <td>14.891</td>\n",
       "      <td>3606</td>\n",
       "      <td>283</td>\n",
       "      <td>2</td>\n",
       "      <td>34</td>\n",
       "      <td>11</td>\n",
       "      <td>Male</td>\n",
       "      <td>No</td>\n",
       "      <td>Yes</td>\n",
       "      <td>Caucasian</td>\n",
       "      <td>333</td>\n",
       "      <td>0</td>\n",
       "    </tr>\n",
       "    <tr>\n",
       "      <th>1</th>\n",
       "      <td>106.025</td>\n",
       "      <td>6645</td>\n",
       "      <td>483</td>\n",
       "      <td>3</td>\n",
       "      <td>82</td>\n",
       "      <td>15</td>\n",
       "      <td>Female</td>\n",
       "      <td>Yes</td>\n",
       "      <td>Yes</td>\n",
       "      <td>Asian</td>\n",
       "      <td>903</td>\n",
       "      <td>1</td>\n",
       "    </tr>\n",
       "    <tr>\n",
       "      <th>2</th>\n",
       "      <td>104.593</td>\n",
       "      <td>7075</td>\n",
       "      <td>514</td>\n",
       "      <td>4</td>\n",
       "      <td>71</td>\n",
       "      <td>11</td>\n",
       "      <td>Male</td>\n",
       "      <td>No</td>\n",
       "      <td>No</td>\n",
       "      <td>Asian</td>\n",
       "      <td>580</td>\n",
       "      <td>1</td>\n",
       "    </tr>\n",
       "    <tr>\n",
       "      <th>3</th>\n",
       "      <td>148.924</td>\n",
       "      <td>9504</td>\n",
       "      <td>681</td>\n",
       "      <td>3</td>\n",
       "      <td>36</td>\n",
       "      <td>11</td>\n",
       "      <td>Female</td>\n",
       "      <td>No</td>\n",
       "      <td>No</td>\n",
       "      <td>Asian</td>\n",
       "      <td>964</td>\n",
       "      <td>1</td>\n",
       "    </tr>\n",
       "    <tr>\n",
       "      <th>4</th>\n",
       "      <td>55.882</td>\n",
       "      <td>4897</td>\n",
       "      <td>357</td>\n",
       "      <td>2</td>\n",
       "      <td>68</td>\n",
       "      <td>16</td>\n",
       "      <td>Male</td>\n",
       "      <td>No</td>\n",
       "      <td>Yes</td>\n",
       "      <td>Caucasian</td>\n",
       "      <td>331</td>\n",
       "      <td>1</td>\n",
       "    </tr>\n",
       "  </tbody>\n",
       "</table>\n",
       "</div>"
      ],
      "text/plain": [
       "    Income  Limit  Rating  Cards  Age  Education  Gender Student Married  \\\n",
       "0   14.891   3606     283      2   34         11    Male      No     Yes   \n",
       "1  106.025   6645     483      3   82         15  Female     Yes     Yes   \n",
       "2  104.593   7075     514      4   71         11    Male      No      No   \n",
       "3  148.924   9504     681      3   36         11  Female      No      No   \n",
       "4   55.882   4897     357      2   68         16    Male      No     Yes   \n",
       "\n",
       "   Ethnicity  Balance  inc_gt_50  \n",
       "0  Caucasian      333          0  \n",
       "1      Asian      903          1  \n",
       "2      Asian      580          1  \n",
       "3      Asian      964          1  \n",
       "4  Caucasian      331          1  "
      ]
     },
     "execution_count": 6,
     "metadata": {},
     "output_type": "execute_result"
    }
   ],
   "source": [
    "df = pd.read_csv(\"Credit.csv\")\n",
    "df = df.drop('Unnamed: 0', axis=1)\n",
    "df['inc_gt_50'] = (df['Income'] > 50).astype(int)\n",
    "print(df.info())\n",
    "df.head()"
   ]
  },
  {
   "cell_type": "markdown",
   "metadata": {},
   "source": [
    "Decision tree classifier"
   ]
  },
  {
   "cell_type": "code",
   "execution_count": 7,
   "metadata": {},
   "outputs": [],
   "source": [
    "def decisionTree(df, formula, seed, max_depth=3):\n",
    "    np.random.seed(seed)\n",
    "    mask = np.random.rand(len(df)) < 0.8\n",
    "    train_set = df[mask]\n",
    "    valid_set = df[~mask]\n",
    "    \n",
    "    train_y, train_x = dmatrices(formula, data=train_set, return_type=\"dataframe\")\n",
    "    valid_y, valid_x = dmatrices(formula, data=valid_set, return_type=\"dataframe\")\n",
    "    \n",
    "    model = DecisionTreeClassifier(criterion=\"entropy\", max_depth=max_depth)\n",
    "    result = model.fit(train_x, train_y)\n",
    "    \n",
    "    train_acc = accuracy_score(train_y, model.predict(train_x))\n",
    "    val_acc = accuracy_score(valid_y, model.predict(valid_x))\n",
    "    val_maj_proportion = max(valid_set[formula.split()[0]].value_counts(normalize=True))\n",
    "\n",
    "    return train_acc, val_acc, val_maj_proportion"
   ]
  },
  {
   "cell_type": "markdown",
   "metadata": {},
   "source": [
    "KNN classifier"
   ]
  },
  {
   "cell_type": "code",
   "execution_count": 8,
   "metadata": {},
   "outputs": [],
   "source": [
    "def knn(df, formula, seed, n_neighbors=5):\n",
    "    np.random.seed(seed)\n",
    "    mask = np.random.rand(len(df)) < 0.8\n",
    "    train_set = df[mask]\n",
    "    valid_set = df[~mask]\n",
    "    \n",
    "    train_y, train_x = dmatrices(formula, data=train_set, return_type=\"dataframe\")\n",
    "    valid_y, valid_x = dmatrices(formula, data=valid_set, return_type=\"dataframe\")\n",
    "    \n",
    "    model = KNeighborsClassifier(n_neighbors=n_neighbors)\n",
    "    train_y = np.array(train_y).reshape(len(train_y,))\n",
    "    result = model.fit(train_x, train_y)\n",
    "    \n",
    "    train_acc = accuracy_score(train_y, model.predict(train_x))\n",
    "    val_acc = accuracy_score(valid_y, model.predict(valid_x))\n",
    "    val_maj_proportion = max(valid_set[formula.split()[0]].value_counts(normalize=True))\n",
    "\n",
    "    return train_acc, val_acc, val_maj_proportion"
   ]
  },
  {
   "cell_type": "markdown",
   "metadata": {},
   "source": [
    "Predict income greater than 50"
   ]
  },
  {
   "cell_type": "code",
   "execution_count": 9,
   "metadata": {},
   "outputs": [
    {
     "name": "stdout",
     "output_type": "stream",
     "text": [
      "inc_gt_50:\n",
      "Income                 0.797502\n",
      "Limit                  0.634231\n",
      "Rating                 0.628991\n",
      "Balance                0.349252\n",
      "Age                    0.166677\n",
      "Married_Yes            0.022746\n",
      "Ethnicity_Caucasian    0.014163\n",
      "Gender_Female          0.008979\n",
      "Student_Yes           -0.007207\n",
      "Education             -0.023899\n",
      "Cards                 -0.026562\n",
      "Ethnicity_Asian       -0.032493\n",
      "Name: inc_gt_50, dtype: float64\n"
     ]
    }
   ],
   "source": [
    "df_numeric = pd.get_dummies(df, columns=[\"Gender\", \"Student\", \"Married\", \"Ethnicity\"], drop_first=True)\n",
    "correlation_matrix = df_numeric.corr()\n",
    "print(\"inc_gt_50:\")\n",
    "print(correlation_matrix[\"inc_gt_50\"].drop(\"inc_gt_50\").sort_values(ascending=False))"
   ]
  },
  {
   "cell_type": "markdown",
   "metadata": {},
   "source": [
    "Decision Tree"
   ]
  },
  {
   "cell_type": "code",
   "execution_count": 10,
   "metadata": {},
   "outputs": [
    {
     "name": "stdout",
     "output_type": "stream",
     "text": [
      "\u001b[91mMajority class proportion of validation set: 0.6860\u001b[0m\n",
      "\u001b[94minc_gt_50 ~ Limit:\u001b[0m\n",
      "\tValidation accuracy: 0.7907\n",
      "\u001b[94minc_gt_50 ~ Rating:\u001b[0m\n",
      "\tValidation accuracy: 0.8140\n",
      "\u001b[94minc_gt_50 ~ Cards:\u001b[0m\n",
      "\tValidation accuracy: 0.6860\n",
      "\u001b[94minc_gt_50 ~ Age:\u001b[0m\n",
      "\tValidation accuracy: 0.6977\n",
      "\u001b[94minc_gt_50 ~ Education:\u001b[0m\n",
      "\tValidation accuracy: 0.6860\n",
      "\u001b[94minc_gt_50 ~ Gender:\u001b[0m\n",
      "\tValidation accuracy: 0.6860\n",
      "\u001b[94minc_gt_50 ~ Student:\u001b[0m\n",
      "\tValidation accuracy: 0.6860\n",
      "\u001b[94minc_gt_50 ~ Married:\u001b[0m\n",
      "\tValidation accuracy: 0.6860\n",
      "\u001b[94minc_gt_50 ~ Ethnicity:\u001b[0m\n",
      "\tValidation accuracy: 0.6860\n",
      "\u001b[94minc_gt_50 ~ Balance:\u001b[0m\n",
      "\tValidation accuracy: 0.7558\n",
      "--------------------------------------\n",
      "\u001b[94minc_gt_50 ~ Limit + Rating:\u001b[0m\n",
      "\tTraining accuracy: 0.8694\n",
      "\tValidation accuracy: 0.7907\n",
      "\u001b[94minc_gt_50 ~ Limit + Balance:\u001b[0m\n",
      "\tTraining accuracy: 0.9108\n",
      "\tValidation accuracy: 0.8488\n",
      "\u001b[94minc_gt_50 ~ Rating + Balance:\u001b[0m\n"
     ]
    },
    {
     "name": "stdout",
     "output_type": "stream",
     "text": [
      "\tTraining accuracy: 0.9076\n",
      "\tValidation accuracy: 0.8837\n",
      "\u001b[94minc_gt_50 ~ Limit + Rating + Balance:\u001b[0m\n",
      "\tTraining accuracy: 0.9108\n",
      "\tValidation accuracy: 0.8488\n",
      "\u001b[94minc_gt_50 ~ Limit + Rating + Balance + Age:\u001b[0m\n",
      "\tTraining accuracy: 0.9108\n",
      "\tValidation accuracy: 0.8372\n",
      "\u001b[94minc_gt_50 ~ Limit + Rating + Balance + Age:\u001b[0m\n",
      "\tTraining accuracy: 0.9108\n",
      "\tValidation accuracy: 0.8372\n",
      "\u001b[94minc_gt_50 ~ Limit + Rating + Balance + Age + Education + Gender + Student + Married + Ethnicity + Balance:\u001b[0m\n",
      "\tTraining accuracy: 0.9108\n",
      "\tValidation accuracy: 0.8372\n"
     ]
    }
   ],
   "source": [
    "formulas = [\n",
    "    \"inc_gt_50 ~ Limit\",\n",
    "    \"inc_gt_50 ~ Rating\",\n",
    "    \"inc_gt_50 ~ Cards\",\n",
    "    \"inc_gt_50 ~ Age\",\n",
    "    \"inc_gt_50 ~ Education\",\n",
    "    \"inc_gt_50 ~ Gender\",\n",
    "    \"inc_gt_50 ~ Student\",\n",
    "    \"inc_gt_50 ~ Married\",\n",
    "    \"inc_gt_50 ~ Ethnicity\",\n",
    "    \"inc_gt_50 ~ Balance\",\n",
    "]\n",
    "better_formulas = [\n",
    "    \"inc_gt_50 ~ Limit + Rating\",\n",
    "    \"inc_gt_50 ~ Limit + Balance\",\n",
    "    \"inc_gt_50 ~ Rating + Balance\",\n",
    "    \"inc_gt_50 ~ Limit + Rating + Balance\",\n",
    "    \"inc_gt_50 ~ Limit + Rating + Balance + Age\",\n",
    "    \"inc_gt_50 ~ Limit + Rating + Balance + Age\",\n",
    "    \"inc_gt_50 ~ Limit + Rating + Balance + Age + Education + Gender + Student + Married + Ethnicity + Balance\",\n",
    "]\n",
    "\n",
    "seed = np.random.randint(2**32)\n",
    "train_acc, val_acc, val_maj_proportion = decisionTree(df, \"inc_gt_50 ~ Limit\", seed)\n",
    "print(f\"\\033[91mMajority class proportion of validation set: {val_maj_proportion:.4f}\\033[0m\")\n",
    "for f in formulas:\n",
    "    print(f\"\\033[94m{f}:\\033[0m\")\n",
    "    train_acc, val_acc, _ = decisionTree(df, f, seed, 3)\n",
    "    print(f\"\\tValidation accuracy: {val_acc:.4f}\")\n",
    "print(\"--------------------------------------\")\n",
    "for f in better_formulas:\n",
    "    print(f\"\\033[94m{f}:\\033[0m\")\n",
    "    train_acc, val_acc, _ = decisionTree(df, f, seed, 3)\n",
    "    print(f\"\\tTraining accuracy: {train_acc:.4f}\")\n",
    "    print(f\"\\tValidation accuracy: {val_acc:.4f}\")"
   ]
  },
  {
   "cell_type": "markdown",
   "metadata": {},
   "source": [
    "KNN"
   ]
  },
  {
   "cell_type": "code",
   "execution_count": 11,
   "metadata": {},
   "outputs": [
    {
     "name": "stdout",
     "output_type": "stream",
     "text": [
      "\u001b[91mMajority class proportion of validation set: 0.6901\u001b[0m\n",
      "\u001b[94minc_gt_50 ~ Limit:\u001b[0m\n",
      "\tValidation accuracy: 0.8451\n",
      "\u001b[94minc_gt_50 ~ Rating:\u001b[0m\n"
     ]
    },
    {
     "name": "stdout",
     "output_type": "stream",
     "text": [
      "\tValidation accuracy: 0.8732\n",
      "\u001b[94minc_gt_50 ~ Cards:\u001b[0m\n",
      "\tValidation accuracy: 0.6479\n",
      "\u001b[94minc_gt_50 ~ Age:\u001b[0m\n",
      "\tValidation accuracy: 0.6901\n",
      "\u001b[94minc_gt_50 ~ Education:\u001b[0m\n",
      "\tValidation accuracy: 0.6056\n",
      "\u001b[94minc_gt_50 ~ Gender:\u001b[0m\n",
      "\tValidation accuracy: 0.3099\n",
      "\u001b[94minc_gt_50 ~ Student:\u001b[0m\n",
      "\tValidation accuracy: 0.3662\n",
      "\u001b[94minc_gt_50 ~ Married:\u001b[0m\n",
      "\tValidation accuracy: 0.3099\n",
      "\u001b[94minc_gt_50 ~ Ethnicity:\u001b[0m\n",
      "\tValidation accuracy: 0.5634\n",
      "\u001b[94minc_gt_50 ~ Balance:\u001b[0m\n",
      "\tValidation accuracy: 0.7465\n",
      "--------------------------------------\n",
      "\u001b[94minc_gt_50 ~ Limit + Rating:\u001b[0m\n",
      "\tTraining accuracy: 0.8602\n",
      "\tValidation accuracy: 0.8592\n",
      "\u001b[94minc_gt_50 ~ Limit + Balance:\u001b[0m\n",
      "\tTraining accuracy: 0.9392\n",
      "\tValidation accuracy: 0.9859\n",
      "\u001b[94minc_gt_50 ~ Rating + Balance:\u001b[0m\n",
      "\tTraining accuracy: 0.9362\n",
      "\tValidation accuracy: 0.9577\n",
      "\u001b[94minc_gt_50 ~ Limit + Rating + Balance:\u001b[0m\n",
      "\tTraining accuracy: 0.9392\n",
      "\tValidation accuracy: 0.9859\n",
      "\u001b[94minc_gt_50 ~ Limit + Rating + Balance + Age:\u001b[0m\n",
      "\tTraining accuracy: 0.9362\n",
      "\tValidation accuracy: 0.9859\n",
      "\u001b[94minc_gt_50 ~ Limit + Rating + Balance + Age:\u001b[0m\n",
      "\tTraining accuracy: 0.9362\n",
      "\tValidation accuracy: 0.9859\n",
      "\u001b[94minc_gt_50 ~ Limit + Rating + Balance + Age + Education + Gender + Student + Married + Ethnicity + Balance:\u001b[0m\n",
      "\tTraining accuracy: 0.9362\n",
      "\tValidation accuracy: 0.9859\n"
     ]
    }
   ],
   "source": [
    "formulas = [\n",
    "    \"inc_gt_50 ~ Limit\",\n",
    "    \"inc_gt_50 ~ Rating\",\n",
    "    \"inc_gt_50 ~ Cards\",\n",
    "    \"inc_gt_50 ~ Age\",\n",
    "    \"inc_gt_50 ~ Education\",\n",
    "    \"inc_gt_50 ~ Gender\",\n",
    "    \"inc_gt_50 ~ Student\",\n",
    "    \"inc_gt_50 ~ Married\",\n",
    "    \"inc_gt_50 ~ Ethnicity\",\n",
    "    \"inc_gt_50 ~ Balance\",\n",
    "]\n",
    "better_formulas = [\n",
    "    \"inc_gt_50 ~ Limit + Rating\",\n",
    "    \"inc_gt_50 ~ Limit + Balance\",\n",
    "    \"inc_gt_50 ~ Rating + Balance\",\n",
    "    \"inc_gt_50 ~ Limit + Rating + Balance\",\n",
    "    \"inc_gt_50 ~ Limit + Rating + Balance + Age\",\n",
    "    \"inc_gt_50 ~ Limit + Rating + Balance + Age\",\n",
    "    \"inc_gt_50 ~ Limit + Rating + Balance + Age + Education + Gender + Student + Married + Ethnicity + Balance\",\n",
    "]\n",
    "\n",
    "seed = np.random.randint(2**32)\n",
    "train_acc, val_acc, val_maj_proportion = knn(df, \"inc_gt_50 ~ Limit\", seed)\n",
    "print(f\"\\033[91mMajority class proportion of validation set: {val_maj_proportion:.4f}\\033[0m\")\n",
    "for f in formulas:\n",
    "    print(f\"\\033[94m{f}:\\033[0m\")\n",
    "    train_acc, val_acc, _ = knn(df, f, seed, 5)\n",
    "    print(f\"\\tValidation accuracy: {val_acc:.4f}\")\n",
    "print(\"--------------------------------------\")\n",
    "for f in better_formulas:\n",
    "    print(f\"\\033[94m{f}:\\033[0m\")\n",
    "    train_acc, val_acc, _ = knn(df, f, seed, 5)\n",
    "    print(f\"\\tTraining accuracy: {train_acc:.4f}\")\n",
    "    print(f\"\\tValidation accuracy: {val_acc:.4f}\")"
   ]
  },
  {
   "cell_type": "markdown",
   "metadata": {},
   "source": [
    "Cross validation and grid search"
   ]
  },
  {
   "cell_type": "code",
   "execution_count": 53,
   "metadata": {},
   "outputs": [],
   "source": [
    "model_formula = \"inc_gt_50 ~ Limit + Rating + Balance\"\n",
    "y, x = dmatrices(model_formula, data=df, return_type='dataframe')\n",
    "Y = y.values.ravel()\n",
    "X = x.values"
   ]
  },
  {
   "cell_type": "code",
   "execution_count": 59,
   "metadata": {},
   "outputs": [
    {
     "name": "stdout",
     "output_type": "stream",
     "text": [
      "Top 10 parameter sets:\n",
      "               params  mean_test_score\n",
      "6    {'max_depth': 7}           0.9250\n",
      "28  {'max_depth': 29}           0.9225\n",
      "29  {'max_depth': 30}           0.9225\n",
      "21  {'max_depth': 22}           0.9225\n",
      "16  {'max_depth': 17}           0.9225\n",
      "43  {'max_depth': 44}           0.9225\n",
      "42  {'max_depth': 43}           0.9225\n",
      "44  {'max_depth': 45}           0.9225\n",
      "19  {'max_depth': 20}           0.9225\n",
      "8    {'max_depth': 9}           0.9225\n"
     ]
    }
   ],
   "source": [
    "from sklearn.model_selection import GridSearchCV\n",
    "\n",
    "params_opt = {'max_depth':range(1, 50, 1)}\n",
    "\n",
    "gridSearchCV = GridSearchCV(\n",
    "    estimator = DecisionTreeClassifier(), \n",
    "    param_grid = params_opt,\n",
    "    cv=10)\n",
    "gridSearchCV.fit(X,Y)\n",
    "\n",
    "results = pd.DataFrame(gridSearchCV.cv_results_)\n",
    "\n",
    "# Sort the results by the mean test score in descending order\n",
    "sorted_results = results.sort_values(by='mean_test_score', ascending=False)\n",
    "\n",
    "# Print the top 5 parameter sets\n",
    "print(\"Top 10 parameter sets:\")\n",
    "print(sorted_results.loc[:, ['params', 'mean_test_score']].head(10))"
   ]
  },
  {
   "cell_type": "code",
   "execution_count": 62,
   "metadata": {},
   "outputs": [
    {
     "name": "stdout",
     "output_type": "stream",
     "text": [
      "Top 10 parameter sets:\n",
      "                 params  mean_test_score\n",
      "4    {'n_neighbors': 5}           0.9400\n",
      "1    {'n_neighbors': 2}           0.9375\n",
      "0    {'n_neighbors': 1}           0.9350\n",
      "2    {'n_neighbors': 3}           0.9325\n",
      "3    {'n_neighbors': 4}           0.9275\n",
      "6    {'n_neighbors': 7}           0.9275\n",
      "7    {'n_neighbors': 8}           0.9275\n",
      "8    {'n_neighbors': 9}           0.9275\n",
      "5    {'n_neighbors': 6}           0.9225\n",
      "12  {'n_neighbors': 13}           0.9150\n"
     ]
    }
   ],
   "source": [
    "from sklearn.model_selection import GridSearchCV\n",
    "\n",
    "params_opt = {'n_neighbors':range(1, 30, 1)}\n",
    "\n",
    "gridSearchCV = GridSearchCV(\n",
    "    estimator = KNeighborsClassifier(), \n",
    "    param_grid = params_opt,\n",
    "    cv=10)\n",
    "gridSearchCV.fit(X,Y)\n",
    "\n",
    "results = pd.DataFrame(gridSearchCV.cv_results_)\n",
    "\n",
    "# Sort the results by the mean test score in descending order\n",
    "sorted_results = results.sort_values(by='mean_test_score', ascending=False)\n",
    "\n",
    "# Print the top 5 parameter sets\n",
    "print(\"Top 10 parameter sets:\")\n",
    "print(sorted_results.loc[:, ['params', 'mean_test_score']].head(10))"
   ]
  },
  {
   "cell_type": "code",
   "execution_count": 63,
   "metadata": {},
   "outputs": [
    {
     "name": "stdout",
     "output_type": "stream",
     "text": [
      "\u001b[94mLRE \u001b[0m:\n",
      "\tmean: 0.9525,\tstd: 0.0146\n",
      "\u001b[94mKNN1\u001b[0m:\n",
      "\tmean: 0.9400,\tstd: 0.0122\n",
      "\u001b[94mKNN2\u001b[0m:\n",
      "\tmean: 0.9375,\tstd: 0.0112\n",
      "\u001b[94mKNN5\u001b[0m:\n",
      "\tmean: 0.9325,\tstd: 0.0150\n",
      "\u001b[94mDTC7\u001b[0m:\n",
      "\tmean: 0.9150,\tstd: 0.0200\n",
      "\u001b[94mDTC17\u001b[0m:\n",
      "\tmean: 0.9050,\tstd: 0.0269\n",
      "\u001b[94mDTC29\u001b[0m:\n",
      "\tmean: 0.9050,\tstd: 0.0187\n"
     ]
    },
    {
     "data": {
      "image/png": "[encoded data removed]",
      "text/plain": [
       "<Figure size 640x480 with 1 Axes>"
      ]
     },
     "metadata": {},
     "output_type": "display_data"
    }
   ],
   "source": [
    "models = []\n",
    "models.append(('LRE ', LogisticRegression()))\n",
    "models.append(('KNN1', KNeighborsClassifier(n_neighbors=1)))\n",
    "models.append(('KNN2', KNeighborsClassifier(n_neighbors=2)))\n",
    "models.append(('KNN5', KNeighborsClassifier(n_neighbors=5)))\n",
    "models.append(('DTC7', DecisionTreeClassifier(max_depth=7)))\n",
    "models.append(('DTC17', DecisionTreeClassifier(max_depth=17)))\n",
    "models.append(('DTC29', DecisionTreeClassifier(max_depth=29)))\n",
    "\n",
    "results = []\n",
    "names = []\n",
    "scoring = 'accuracy'\n",
    "for name, model in models:\n",
    "    kfold = model_selection.KFold(n_splits=5)\n",
    "    cv_results = model_selection.cross_val_score(model, X, Y, cv=kfold, scoring=scoring)\n",
    "    results.append(cv_results)\n",
    "    names.append(name)\n",
    "    # msg = \"%s:     mean: %f       std: %f\" % (name, cv_results.mean(), cv_results.std())\n",
    "    # print(msg)\n",
    "    print(f\"\\033[94m{name}\\033[0m:\\n\\tmean: {cv_results.mean():.4f},\\tstd: {cv_results.std():.4f}\")\n",
    "\n",
    "fig = plt.figure()\n",
    "fig.suptitle('Algorithm Comparison')\n",
    "ax = fig.add_subplot(111)\n",
    "plt.boxplot(results)\n",
    "ax.set_xticklabels(names)\n",
    "plt.show()"
   ]
  }
 ],
 "metadata": {
  "kernelspec": {
   "display_name": "Python 3",
   "language": "python",
   "name": "python3"
  },
  "language_info": {
   "codemirror_mode": {
    "name": "ipython",
    "version": 3
   },
   "file_extension": ".py",
   "mimetype": "text/x-python",
   "name": "python",
   "nbconvert_exporter": "python",
   "pygments_lexer": "ipython3",
   "version": "3.8.10"
  }
 },
 "nbformat": 4,
 "nbformat_minor": 2
}
