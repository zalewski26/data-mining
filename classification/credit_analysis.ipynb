{
 "cells": [
  {
   "cell_type": "markdown",
   "metadata": {},
   "source": [
    "Imports"
   ]
  },
  {
   "cell_type": "code",
   "execution_count": 25,
   "metadata": {},
   "outputs": [],
   "source": [
    "import warnings\n",
    "\n",
    "import matplotlib.pyplot as plt\n",
    "import numpy as np\n",
    "import pandas as pd\n",
    "import seaborn as sns\n",
    "from patsy import dmatrices\n",
    "from sklearn.exceptions import ConvergenceWarning\n",
    "from sklearn.linear_model import LogisticRegression\n",
    "from sklearn.metrics import accuracy_score\n",
    "\n",
    "warnings.filterwarnings(\"ignore\", category=ConvergenceWarning)"
   ]
  },
  {
   "cell_type": "markdown",
   "metadata": {},
   "source": [
    "Load data"
   ]
  },
  {
   "cell_type": "code",
   "execution_count": 26,
   "metadata": {},
   "outputs": [
    {
     "name": "stdout",
     "output_type": "stream",
     "text": [
      "<class 'pandas.core.frame.DataFrame'>\n",
      "RangeIndex: 400 entries, 0 to 399\n",
      "Data columns (total 12 columns):\n",
      " #   Column     Non-Null Count  Dtype  \n",
      "---  ------     --------------  -----  \n",
      " 0   Income     400 non-null    float64\n",
      " 1   Limit      400 non-null    int64  \n",
      " 2   Rating     400 non-null    int64  \n",
      " 3   Cards      400 non-null    int64  \n",
      " 4   Age        400 non-null    int64  \n",
      " 5   Education  400 non-null    int64  \n",
      " 6   Gender     400 non-null    object \n",
      " 7   Student    400 non-null    object \n",
      " 8   Married    400 non-null    object \n",
      " 9   Ethnicity  400 non-null    object \n",
      " 10  Balance    400 non-null    int64  \n",
      " 11  inc_gt_50  400 non-null    int64  \n",
      "dtypes: float64(1), int64(7), object(4)\n",
      "memory usage: 37.6+ KB\n",
      "None\n"
     ]
    },
    {
     "data": {
      "text/html": [
       "<div>\n",
       "<style scoped>\n",
       "    .dataframe tbody tr th:only-of-type {\n",
       "        vertical-align: middle;\n",
       "    }\n",
       "\n",
       "    .dataframe tbody tr th {\n",
       "        vertical-align: top;\n",
       "    }\n",
       "\n",
       "    .dataframe thead th {\n",
       "        text-align: right;\n",
       "    }\n",
       "</style>\n",
       "<table border=\"1\" class=\"dataframe\">\n",
       "  <thead>\n",
       "    <tr style=\"text-align: right;\">\n",
       "      <th></th>\n",
       "      <th>Income</th>\n",
       "      <th>Limit</th>\n",
       "      <th>Rating</th>\n",
       "      <th>Cards</th>\n",
       "      <th>Age</th>\n",
       "      <th>Education</th>\n",
       "      <th>Gender</th>\n",
       "      <th>Student</th>\n",
       "      <th>Married</th>\n",
       "      <th>Ethnicity</th>\n",
       "      <th>Balance</th>\n",
       "      <th>inc_gt_50</th>\n",
       "    </tr>\n",
       "  </thead>\n",
       "  <tbody>\n",
       "    <tr>\n",
       "      <th>0</th>\n",
       "      <td>14.891</td>\n",
       "      <td>3606</td>\n",
       "      <td>283</td>\n",
       "      <td>2</td>\n",
       "      <td>34</td>\n",
       "      <td>11</td>\n",
       "      <td>Male</td>\n",
       "      <td>No</td>\n",
       "      <td>Yes</td>\n",
       "      <td>Caucasian</td>\n",
       "      <td>333</td>\n",
       "      <td>0</td>\n",
       "    </tr>\n",
       "    <tr>\n",
       "      <th>1</th>\n",
       "      <td>106.025</td>\n",
       "      <td>6645</td>\n",
       "      <td>483</td>\n",
       "      <td>3</td>\n",
       "      <td>82</td>\n",
       "      <td>15</td>\n",
       "      <td>Female</td>\n",
       "      <td>Yes</td>\n",
       "      <td>Yes</td>\n",
       "      <td>Asian</td>\n",
       "      <td>903</td>\n",
       "      <td>1</td>\n",
       "    </tr>\n",
       "    <tr>\n",
       "      <th>2</th>\n",
       "      <td>104.593</td>\n",
       "      <td>7075</td>\n",
       "      <td>514</td>\n",
       "      <td>4</td>\n",
       "      <td>71</td>\n",
       "      <td>11</td>\n",
       "      <td>Male</td>\n",
       "      <td>No</td>\n",
       "      <td>No</td>\n",
       "      <td>Asian</td>\n",
       "      <td>580</td>\n",
       "      <td>1</td>\n",
       "    </tr>\n",
       "    <tr>\n",
       "      <th>3</th>\n",
       "      <td>148.924</td>\n",
       "      <td>9504</td>\n",
       "      <td>681</td>\n",
       "      <td>3</td>\n",
       "      <td>36</td>\n",
       "      <td>11</td>\n",
       "      <td>Female</td>\n",
       "      <td>No</td>\n",
       "      <td>No</td>\n",
       "      <td>Asian</td>\n",
       "      <td>964</td>\n",
       "      <td>1</td>\n",
       "    </tr>\n",
       "    <tr>\n",
       "      <th>4</th>\n",
       "      <td>55.882</td>\n",
       "      <td>4897</td>\n",
       "      <td>357</td>\n",
       "      <td>2</td>\n",
       "      <td>68</td>\n",
       "      <td>16</td>\n",
       "      <td>Male</td>\n",
       "      <td>No</td>\n",
       "      <td>Yes</td>\n",
       "      <td>Caucasian</td>\n",
       "      <td>331</td>\n",
       "      <td>1</td>\n",
       "    </tr>\n",
       "  </tbody>\n",
       "</table>\n",
       "</div>"
      ],
      "text/plain": [
       "    Income  Limit  Rating  Cards  Age  Education  Gender Student Married  \\\n",
       "0   14.891   3606     283      2   34         11    Male      No     Yes   \n",
       "1  106.025   6645     483      3   82         15  Female     Yes     Yes   \n",
       "2  104.593   7075     514      4   71         11    Male      No      No   \n",
       "3  148.924   9504     681      3   36         11  Female      No      No   \n",
       "4   55.882   4897     357      2   68         16    Male      No     Yes   \n",
       "\n",
       "   Ethnicity  Balance  inc_gt_50  \n",
       "0  Caucasian      333          0  \n",
       "1      Asian      903          1  \n",
       "2      Asian      580          1  \n",
       "3      Asian      964          1  \n",
       "4  Caucasian      331          1  "
      ]
     },
     "execution_count": 26,
     "metadata": {},
     "output_type": "execute_result"
    }
   ],
   "source": [
    "df = pd.read_csv(\"Credit.csv\")\n",
    "df = df.drop('Unnamed: 0', axis=1)\n",
    "df['inc_gt_50'] = (df['Income'] > 50).astype(int)\n",
    "print(df.info())\n",
    "df.head()"
   ]
  },
  {
   "cell_type": "markdown",
   "metadata": {},
   "source": [
    "Logistic Regression"
   ]
  },
  {
   "cell_type": "code",
   "execution_count": 27,
   "metadata": {},
   "outputs": [],
   "source": [
    "def logisticRegression(df, formula, seed=1):\n",
    "    np.random.seed(seed)\n",
    "    mask = np.random.rand(len(df)) < 0.8\n",
    "    train_set = df[mask]\n",
    "    valid_set = df[~mask]\n",
    "    \n",
    "    train_y, train_x = dmatrices(formula, data=train_set, return_type=\"dataframe\")\n",
    "    valid_y, valid_x = dmatrices(formula, data=valid_set, return_type=\"dataframe\")\n",
    "    \n",
    "    model = LogisticRegression(fit_intercept = False, C = 1e9, max_iter=1000)\n",
    "    train_y = np.array(train_y).reshape(len(train_y,))\n",
    "    model.fit(train_x, train_y)\n",
    "    \n",
    "    train_acc = accuracy_score(train_y, model.predict(train_x))\n",
    "    val_acc = accuracy_score(valid_y, model.predict(valid_x))\n",
    "    val_maj_proportion = max(valid_set[formula.split()[0]].value_counts(normalize=True))\n",
    "\n",
    "    return train_acc, val_acc, val_maj_proportion"
   ]
  },
  {
   "cell_type": "markdown",
   "metadata": {},
   "source": [
    "Predict income greater than 50"
   ]
  },
  {
   "cell_type": "code",
   "execution_count": 28,
   "metadata": {},
   "outputs": [
    {
     "name": "stdout",
     "output_type": "stream",
     "text": [
      "inc_gt_50:\n",
      "Income                 0.797502\n",
      "Limit                  0.634231\n",
      "Rating                 0.628991\n",
      "Balance                0.349252\n",
      "Age                    0.166677\n",
      "Married_Yes            0.022746\n",
      "Ethnicity_Caucasian    0.014163\n",
      "Gender_Female          0.008979\n",
      "Student_Yes           -0.007207\n",
      "Education             -0.023899\n",
      "Cards                 -0.026562\n",
      "Ethnicity_Asian       -0.032493\n",
      "Name: inc_gt_50, dtype: float64\n"
     ]
    }
   ],
   "source": [
    "df_numeric = pd.get_dummies(df, columns=[\"Gender\", \"Student\", \"Married\", \"Ethnicity\"], drop_first=True)\n",
    "correlation_matrix = df_numeric.corr()\n",
    "print(\"inc_gt_50:\")\n",
    "print(correlation_matrix[\"inc_gt_50\"].drop(\"inc_gt_50\").sort_values(ascending=False))"
   ]
  },
  {
   "cell_type": "code",
   "execution_count": 29,
   "metadata": {},
   "outputs": [
    {
     "name": "stdout",
     "output_type": "stream",
     "text": [
      "\u001b[91mMajority class proportion of validation set: 0.6933\u001b[0m\n",
      "\u001b[94minc_gt_50 ~ Limit:\u001b[0m\n",
      "\tValidation accuracy: 0.8133\n",
      "\u001b[94minc_gt_50 ~ Rating:\u001b[0m\n",
      "\tValidation accuracy: 0.8267\n",
      "\u001b[94minc_gt_50 ~ Cards:\u001b[0m\n",
      "\tValidation accuracy: 0.6933\n",
      "\u001b[94minc_gt_50 ~ Age:\u001b[0m\n",
      "\tValidation accuracy: 0.7067\n",
      "\u001b[94minc_gt_50 ~ Education:\u001b[0m\n",
      "\tValidation accuracy: 0.6933\n",
      "\u001b[94minc_gt_50 ~ Gender:\u001b[0m\n",
      "\tValidation accuracy: 0.6933\n",
      "\u001b[94minc_gt_50 ~ Student:\u001b[0m\n",
      "\tValidation accuracy: 0.6933\n",
      "\u001b[94minc_gt_50 ~ Married:\u001b[0m\n",
      "\tValidation accuracy: 0.6933\n",
      "\u001b[94minc_gt_50 ~ Ethnicity:\u001b[0m\n",
      "\tValidation accuracy: 0.6933\n",
      "\u001b[94minc_gt_50 ~ Balance:\u001b[0m\n",
      "\tValidation accuracy: 0.7467\n",
      "--------------------------------------\n",
      "\u001b[94minc_gt_50 ~ Limit + Rating:\u001b[0m\n",
      "\tTraining accuracy: 0.8338\n",
      "\tValidation accuracy: 0.8267\n",
      "\u001b[94minc_gt_50 ~ Limit + Balance:\u001b[0m\n",
      "\tTraining accuracy: 0.9446\n",
      "\tValidation accuracy: 0.9733\n",
      "\u001b[94minc_gt_50 ~ Rating + Balance:\u001b[0m\n",
      "\tTraining accuracy: 0.9323\n",
      "\tValidation accuracy: 0.9733\n",
      "\u001b[94minc_gt_50 ~ Limit + Rating + Balance:\u001b[0m\n",
      "\tTraining accuracy: 0.9385\n",
      "\tValidation accuracy: 0.9733\n",
      "\u001b[94minc_gt_50 ~ Limit + Rating + Balance + Age:\u001b[0m\n",
      "\tTraining accuracy: 0.9415\n",
      "\tValidation accuracy: 0.9733\n"
     ]
    }
   ],
   "source": [
    "formulas = [\n",
    "    \"inc_gt_50 ~ Limit\",\n",
    "    \"inc_gt_50 ~ Rating\",\n",
    "    \"inc_gt_50 ~ Cards\",\n",
    "    \"inc_gt_50 ~ Age\",\n",
    "    \"inc_gt_50 ~ Education\",\n",
    "    \"inc_gt_50 ~ Gender\",\n",
    "    \"inc_gt_50 ~ Student\",\n",
    "    \"inc_gt_50 ~ Married\",\n",
    "    \"inc_gt_50 ~ Ethnicity\",\n",
    "    \"inc_gt_50 ~ Balance\",\n",
    "]\n",
    "better_formulas = [\n",
    "    \"inc_gt_50 ~ Limit + Rating\",\n",
    "    \"inc_gt_50 ~ Limit + Balance\",\n",
    "    \"inc_gt_50 ~ Rating + Balance\",\n",
    "    \"inc_gt_50 ~ Limit + Rating + Balance\",\n",
    "    \"inc_gt_50 ~ Limit + Rating + Balance + Age\",\n",
    "]\n",
    "\n",
    "seed = np.random.randint(2**32)\n",
    "train_acc, val_acc, val_maj_proportion = logisticRegression(df, \"inc_gt_50 ~ Limit\", seed)\n",
    "print(f\"\\033[91mMajority class proportion of validation set: {val_maj_proportion:.4f}\\033[0m\")\n",
    "for f in formulas:\n",
    "    print(f\"\\033[94m{f}:\\033[0m\")\n",
    "    train_acc, val_acc, val_maj_proportion = logisticRegression(df, f, seed)\n",
    "    print(f\"\\tValidation accuracy: {val_acc:.4f}\")\n",
    "print(\"--------------------------------------\")\n",
    "for f in better_formulas:\n",
    "    print(f\"\\033[94m{f}:\\033[0m\")\n",
    "    train_acc, val_acc, val_maj_proportion = logisticRegression(df, f, seed)\n",
    "    print(f\"\\tTraining accuracy: {train_acc:.4f}\")\n",
    "    print(f\"\\tValidation accuracy: {val_acc:.4f}\")"
   ]
  },
  {
   "cell_type": "markdown",
   "metadata": {},
   "source": [
    "Predict number of cards"
   ]
  },
  {
   "cell_type": "code",
   "execution_count": 30,
   "metadata": {},
   "outputs": [
    {
     "name": "stdout",
     "output_type": "stream",
     "text": [
      "Cards:\n",
      "Balance                0.086456\n",
      "Rating                 0.053239\n",
      "Age                    0.042948\n",
      "Limit                  0.010231\n",
      "Ethnicity_Asian        0.005591\n",
      "Ethnicity_Caucasian   -0.005631\n",
      "Married_Yes           -0.009695\n",
      "Income                -0.018273\n",
      "Gender_Female         -0.022658\n",
      "Student_Yes           -0.026164\n",
      "inc_gt_50             -0.026562\n",
      "Education             -0.051084\n",
      "Name: Cards, dtype: float64\n"
     ]
    }
   ],
   "source": [
    "df_numeric = pd.get_dummies(df, columns=[\"Gender\", \"Student\", \"Married\", \"Ethnicity\"], drop_first=True)\n",
    "correlation_matrix = df_numeric.corr()\n",
    "print(\"Cards:\")\n",
    "print(correlation_matrix[\"Cards\"].drop(\"Cards\").sort_values(ascending=False))"
   ]
  },
  {
   "cell_type": "code",
   "execution_count": 31,
   "metadata": {},
   "outputs": [
    {
     "name": "stdout",
     "output_type": "stream",
     "text": [
      "\u001b[91mMajority class proportion of validation set: 0.3625\u001b[0m\n",
      "\u001b[94mCards ~ Income:\u001b[0m\n"
     ]
    },
    {
     "name": "stdout",
     "output_type": "stream",
     "text": [
      "\tValidation accuracy: 0.1875\n",
      "\u001b[94mCards ~ Limit:\u001b[0m\n",
      "\tValidation accuracy: 0.1875\n",
      "\u001b[94mCards ~ Rating:\u001b[0m\n",
      "\tValidation accuracy: 0.1875\n",
      "\u001b[94mCards ~ Age:\u001b[0m\n",
      "\tValidation accuracy: 0.1750\n",
      "\u001b[94mCards ~ Education:\u001b[0m\n",
      "\tValidation accuracy: 0.1875\n",
      "\u001b[94mCards ~ Gender:\u001b[0m\n",
      "\tValidation accuracy: 0.1875\n",
      "\u001b[94mCards ~ Student:\u001b[0m\n",
      "\tValidation accuracy: 0.1875\n",
      "\u001b[94mCards ~ Married:\u001b[0m\n",
      "\tValidation accuracy: 0.1875\n",
      "\u001b[94mCards ~ Ethnicity:\u001b[0m\n",
      "\tValidation accuracy: 0.2000\n",
      "\u001b[94mCards ~ Balance:\u001b[0m\n",
      "\tValidation accuracy: 0.1875\n",
      "--------------------------------------\n",
      "\u001b[94mCards ~ Balance + Rating:\u001b[0m\n",
      "\tTraining accuracy: 0.2969\n",
      "\tValidation accuracy: 0.2500\n",
      "\u001b[94mCards ~ Balance + Rating + Education:\u001b[0m\n",
      "\tTraining accuracy: 0.3094\n",
      "\tValidation accuracy: 0.1750\n",
      "\u001b[94mCards ~ Balance + Rating + Age:\u001b[0m\n",
      "\tTraining accuracy: 0.2969\n",
      "\tValidation accuracy: 0.1875\n",
      "\u001b[94mCards ~ Balance + Rating + Education + Age:\u001b[0m\n",
      "\tTraining accuracy: 0.3125\n",
      "\tValidation accuracy: 0.2000\n",
      "\u001b[94mCards ~ Balance + Rating + Education + Age + Limit:\u001b[0m\n",
      "\tTraining accuracy: 0.4062\n",
      "\tValidation accuracy: 0.3750\n",
      "\u001b[94mCards ~ Balance + Rating + Education + Age + Limit + inc_gt_50:\u001b[0m\n",
      "\tTraining accuracy: 0.3844\n",
      "\tValidation accuracy: 0.3750\n",
      "\u001b[94mCards ~ Balance + Rating + Education + Age + Limit + inc_gt_50 + Student:\u001b[0m\n",
      "\tTraining accuracy: 0.3781\n",
      "\tValidation accuracy: 0.3875\n",
      "\u001b[94mCards ~ Balance + Rating + Education + Age + Limit + inc_gt_50 + Student + Gender:\u001b[0m\n",
      "\tTraining accuracy: 0.3969\n",
      "\tValidation accuracy: 0.4000\n"
     ]
    }
   ],
   "source": [
    "formulas = [\n",
    "    \"Cards ~ Income\",\n",
    "    \"Cards ~ Limit\",\n",
    "    \"Cards ~ Rating\",\n",
    "    \"Cards ~ Age\",\n",
    "    \"Cards ~ Education\",\n",
    "    \"Cards ~ Gender\",\n",
    "    \"Cards ~ Student\",\n",
    "    \"Cards ~ Married\",\n",
    "    \"Cards ~ Ethnicity\",\n",
    "    \"Cards ~ Balance\",\n",
    "]\n",
    "better_formulas = [\n",
    "    \"Cards ~ Balance + Rating\",\n",
    "    \"Cards ~ Balance + Rating + Education\",\n",
    "    \"Cards ~ Balance + Rating + Age\",\n",
    "    \"Cards ~ Balance + Rating + Education + Age\",\n",
    "    \"Cards ~ Balance + Rating + Education + Age + Limit\",\n",
    "    \"Cards ~ Balance + Rating + Education + Age + Limit + inc_gt_50\",\n",
    "    \"Cards ~ Balance + Rating + Education + Age + Limit + inc_gt_50 + Student\",\n",
    "    \"Cards ~ Balance + Rating + Education + Age + Limit + inc_gt_50 + Student + Gender\",\n",
    "]\n",
    "\n",
    "seed = np.random.randint(2**32)\n",
    "train_acc, val_acc, val_maj_proportion = logisticRegression(df, \"Cards ~ Limit\", seed)\n",
    "print(f\"\\033[91mMajority class proportion of validation set: {val_maj_proportion:.4f}\\033[0m\")\n",
    "for f in formulas:\n",
    "    print(f\"\\033[94m{f}:\\033[0m\")\n",
    "    train_acc, val_acc, val_maj_proportion = logisticRegression(df, f, seed)\n",
    "    print(f\"\\tValidation accuracy: {val_acc:.4f}\")\n",
    "print(\"--------------------------------------\")\n",
    "for f in better_formulas:\n",
    "    print(f\"\\033[94m{f}:\\033[0m\")\n",
    "    train_acc, val_acc, val_maj_proportion = logisticRegression(df, f, seed)\n",
    "    print(f\"\\tTraining accuracy: {train_acc:.4f}\")\n",
    "    print(f\"\\tValidation accuracy: {val_acc:.4f}\")"
   ]
  },
  {
   "cell_type": "markdown",
   "metadata": {},
   "source": [
    "Analyze number of cards"
   ]
  },
  {
   "cell_type": "code",
   "execution_count": 32,
   "metadata": {},
   "outputs": [
    {
     "name": "stdout",
     "output_type": "stream",
     "text": [
      "count    400.000000\n",
      "mean       2.957500\n",
      "std        1.371275\n",
      "min        1.000000\n",
      "25%        2.000000\n",
      "50%        3.000000\n",
      "75%        4.000000\n",
      "max        9.000000\n",
      "Name: Cards, dtype: float64\n"
     ]
    },
    {
     "data": {
      "image/png": "[encoded data removed]",
      "text/plain": [
       "<Figure size 640x480 with 1 Axes>"
      ]
     },
     "metadata": {},
     "output_type": "display_data"
    }
   ],
   "source": [
    "print(df[\"Cards\"].describe())\n",
    "\n",
    "sns.countplot(x=df[\"Cards\"])\n",
    "plt.title(\"Distribution of Number of Cards\")\n",
    "plt.xlabel(\"Number of Cards\")\n",
    "plt.ylabel(\"Count\")\n",
    "plt.show()"
   ]
  }
 ],
 "metadata": {
  "kernelspec": {
   "display_name": "Python 3",
   "language": "python",
   "name": "python3"
  },
  "language_info": {
   "codemirror_mode": {
    "name": "ipython",
    "version": 3
   },
   "file_extension": ".py",
   "mimetype": "text/x-python",
   "name": "python",
   "nbconvert_exporter": "python",
   "pygments_lexer": "ipython3",
   "version": "3.8.10"
  }
 },
 "nbformat": 4,
 "nbformat_minor": 2
}
